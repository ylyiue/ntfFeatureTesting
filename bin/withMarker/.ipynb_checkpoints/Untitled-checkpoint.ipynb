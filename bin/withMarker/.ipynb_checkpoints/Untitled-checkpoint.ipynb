{
 "cells": [
  {
   "cell_type": "code",
   "execution_count": 12,
   "metadata": {
    "collapsed": false
   },
   "outputs": [],
   "source": [
    "from PIL import Image\n",
    "\n",
    "for i in range(1, 125):\n",
    "    file_in = str(i) + \".jpg\"\n",
    "    img = Image.open(file_in).convert('RGBA')\n",
    "    \n",
    "    new_size = img.size[0] * 0.3, img.size[1] * 0.3\n",
    "    img.thumbnail(new_size, Image.ANTIALIAS)\n",
    "    \n",
    "    #r,g,b,a = img.split()\n",
    "    #new_img= Image.merge(\"RGBA\", (b,g,r,a))\n",
    "    \n",
    "    file_out = str(i-1) + \".bmp\"\n",
    "    new_img.save(file_out)"
   ]
  },
  {
   "cell_type": "code",
   "execution_count": 20,
   "metadata": {
    "collapsed": false
   },
   "outputs": [
    {
     "name": "stdout",
     "output_type": "stream",
     "text": [
      "None (609, 891) RGBA\n"
     ]
    }
   ],
   "source": [
    "file_in = \"46_13.jpg\"\n",
    "im = Image.open(file_in).convert('RGBA')\n",
    "new_size = 1382, 1036\n",
    "im.resize(new_size, Image.ANTIALIAS)\n",
    "print (im.format, im.size, im.mode)\n",
    "file_out = \"0.bmp\"\n",
    "im.save(file_out)"
   ]
  },
  {
   "cell_type": "code",
   "execution_count": null,
   "metadata": {
    "collapsed": true
   },
   "outputs": [],
   "source": []
  }
 ],
 "metadata": {
  "anaconda-cloud": {},
  "kernelspec": {
   "display_name": "Python [default]",
   "language": "python",
   "name": "python3"
  },
  "language_info": {
   "codemirror_mode": {
    "name": "ipython",
    "version": 3
   },
   "file_extension": ".py",
   "mimetype": "text/x-python",
   "name": "python",
   "nbconvert_exporter": "python",
   "pygments_lexer": "ipython3",
   "version": "3.5.2"
  }
 },
 "nbformat": 4,
 "nbformat_minor": 1
}
